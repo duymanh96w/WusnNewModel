{
 "cells": [
  {
   "cell_type": "code",
   "execution_count": 1,
   "metadata": {},
   "outputs": [],
   "source": [
    "import pickle\n",
    "from common.input import WusnInput\n",
    "inp = WusnInput.from_file('data/small_data/ga-dem1_r25_1.in')"
   ]
  },
  {
   "cell_type": "code",
   "execution_count": 2,
   "metadata": {},
   "outputs": [
    {
     "ename": "AttributeError",
     "evalue": "'WusnInput' object has no attribute 'attribute'",
     "output_type": "error",
     "traceback": [
      "\u001b[0;31m---------------------------------------------------------------------------\u001b[0m",
      "\u001b[0;31mAttributeError\u001b[0m                            Traceback (most recent call last)",
      "\u001b[0;32m<ipython-input-2-64b4a761d636>\u001b[0m in \u001b[0;36m<module>\u001b[0;34m\u001b[0m\n\u001b[0;32m----> 1\u001b[0;31m \u001b[0minp\u001b[0m\u001b[0;34m.\u001b[0m\u001b[0mattribute\u001b[0m\u001b[0;34m\u001b[0m\u001b[0;34m\u001b[0m\u001b[0m\n\u001b[0m",
      "\u001b[0;31mAttributeError\u001b[0m: 'WusnInput' object has no attribute 'attribute'"
     ]
    }
   ],
   "source": [
    "inp.attribute"
   ]
  },
  {
   "cell_type": "code",
   "execution_count": 3,
   "metadata": {},
   "outputs": [],
   "source": [
    "import os"
   ]
  },
  {
   "cell_type": "code",
   "execution_count": 4,
   "metadata": {},
   "outputs": [],
   "source": [
    "\n",
    "for fn in os.listdir('data/small_data'):\n",
    "    if fn.endswith('in'):\n",
    "        inp = WusnInput.from_file(os.path.join('data/small_data', fn))\n",
    "        data = {}\n",
    "        \n",
    "        with open(os.path.join('pkl/small_data', fn.replace('.in', '.pkl')), 'wb') as f:\n",
    "            pickle.dump(inp.__dict__, f, protocol=pickle.HIGHEST_PROTOCOL)"
   ]
  },
  {
   "cell_type": "code",
   "execution_count": 5,
   "metadata": {},
   "outputs": [],
   "source": [
    "\n",
    "for fn in os.listdir('data/medium_data'):\n",
    "    if fn.endswith('in'):\n",
    "        inp = WusnInput.from_file(os.path.join('data/medium_data', fn))\n",
    "        data = {}\n",
    "        \n",
    "        with open(os.path.join('pkl/medium_data', fn.replace('.in', '.pkl')), 'wb') as f:\n",
    "            pickle.dump(inp.__dict__, f, protocol=pickle.HIGHEST_PROTOCOL)"
   ]
  },
  {
   "cell_type": "code",
   "execution_count": null,
   "metadata": {},
   "outputs": [],
   "source": []
  }
 ],
 "metadata": {
  "kernelspec": {
   "display_name": "Python 3.7.2 64-bit ('base': conda)",
   "language": "python",
   "name": "python37264bitbaseconda2f5d59423cbb42678158803991d6c8dd"
  }
 },
 "nbformat": 4,
 "nbformat_minor": 2
}
